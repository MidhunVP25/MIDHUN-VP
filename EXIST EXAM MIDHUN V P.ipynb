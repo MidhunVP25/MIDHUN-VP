{
 "cells": [
  {
   "cell_type": "code",
   "execution_count": 52,
   "id": "eaed3f5f",
   "metadata": {},
   "outputs": [],
   "source": [
    "#EDA Packages\n",
    "import pandas as pd\n",
    "import numpy as np"
   ]
  },
  {
   "cell_type": "code",
   "execution_count": 53,
   "id": "6ab0b377",
   "metadata": {},
   "outputs": [],
   "source": [
    "# Plotting Packages\n",
    "import matplotlib.pyplot as plt\n",
    "import seaborn as sns"
   ]
  },
  {
   "cell_type": "code",
   "execution_count": 54,
   "id": "6b5026ae",
   "metadata": {},
   "outputs": [],
   "source": [
    "# ML Packages\n",
    "from sklearn import model_selection\n",
    "from sklearn.metrics import classification_report\n",
    "from sklearn.metrics import confusion_matrix\n",
    "from sklearn.metrics import accuracy_score\n",
    "from sklearn.linear_model import LogisticRegression"
   ]
  },
  {
   "cell_type": "code",
   "execution_count": 55,
   "id": "8889e3fc",
   "metadata": {},
   "outputs": [],
   "source": [
    "#load the dataset\n",
    "df=pd.read_csv(r\"C:\\Users\\mithun\\Desktop\\Python\\Untitled Folder\\train (1).csv\")"
   ]
  },
  {
   "cell_type": "code",
   "execution_count": 56,
   "id": "1241702f",
   "metadata": {},
   "outputs": [
    {
     "data": {
      "text/html": [
       "<div>\n",
       "<style scoped>\n",
       "    .dataframe tbody tr th:only-of-type {\n",
       "        vertical-align: middle;\n",
       "    }\n",
       "\n",
       "    .dataframe tbody tr th {\n",
       "        vertical-align: top;\n",
       "    }\n",
       "\n",
       "    .dataframe thead th {\n",
       "        text-align: right;\n",
       "    }\n",
       "</style>\n",
       "<table border=\"1\" class=\"dataframe\">\n",
       "  <thead>\n",
       "    <tr style=\"text-align: right;\">\n",
       "      <th></th>\n",
       "      <th>instance_id</th>\n",
       "      <th>track_name</th>\n",
       "      <th>popularity</th>\n",
       "      <th>acousticness</th>\n",
       "      <th>danceability</th>\n",
       "      <th>duration_ms</th>\n",
       "      <th>energy</th>\n",
       "      <th>instrumentalness</th>\n",
       "      <th>key</th>\n",
       "      <th>liveness</th>\n",
       "      <th>loudness</th>\n",
       "      <th>voice_gender</th>\n",
       "      <th>mode</th>\n",
       "      <th>speechiness</th>\n",
       "      <th>tempo</th>\n",
       "      <th>musician_category</th>\n",
       "      <th>valence</th>\n",
       "      <th>music_genre</th>\n",
       "    </tr>\n",
       "  </thead>\n",
       "  <tbody>\n",
       "    <tr>\n",
       "      <th>0</th>\n",
       "      <td>MSC_83537.0</td>\n",
       "      <td>Estrellitas y Duendes</td>\n",
       "      <td>49.178</td>\n",
       "      <td>0.970522</td>\n",
       "      <td>0.580508</td>\n",
       "      <td>214625.776</td>\n",
       "      <td>0.192107</td>\n",
       "      <td>0.000000</td>\n",
       "      <td>Scale E</td>\n",
       "      <td>0.147134</td>\n",
       "      <td>-14.140</td>\n",
       "      <td>NaN</td>\n",
       "      <td>Major</td>\n",
       "      <td>0.046404</td>\n",
       "      <td>143.788</td>\n",
       "      <td>Band</td>\n",
       "      <td>0.598965</td>\n",
       "      <td>Jazz</td>\n",
       "    </tr>\n",
       "    <tr>\n",
       "      <th>1</th>\n",
       "      <td>MSC_22044.0</td>\n",
       "      <td>Al Norte</td>\n",
       "      <td>59.827</td>\n",
       "      <td>1.009380</td>\n",
       "      <td>0.687542</td>\n",
       "      <td>216232.195</td>\n",
       "      <td>0.265942</td>\n",
       "      <td>0.000030</td>\n",
       "      <td>Scale A</td>\n",
       "      <td>0.174655</td>\n",
       "      <td>-13.716</td>\n",
       "      <td>Male</td>\n",
       "      <td>?</td>\n",
       "      <td>0.039949</td>\n",
       "      <td>?</td>\n",
       "      <td>Band</td>\n",
       "      <td>0.357194</td>\n",
       "      <td>Jazz</td>\n",
       "    </tr>\n",
       "    <tr>\n",
       "      <th>2</th>\n",
       "      <td>MSC_62017.0</td>\n",
       "      <td>Yeah! (feat. Lil Jon &amp; Ludacris)</td>\n",
       "      <td>89.023</td>\n",
       "      <td>0.020041</td>\n",
       "      <td>0.967948</td>\n",
       "      <td>273314.723</td>\n",
       "      <td>0.857411</td>\n",
       "      <td>0.000000</td>\n",
       "      <td>Scale D</td>\n",
       "      <td>0.042030</td>\n",
       "      <td>-4.995</td>\n",
       "      <td>Female</td>\n",
       "      <td>Major</td>\n",
       "      <td>0.119917</td>\n",
       "      <td>105.018</td>\n",
       "      <td>Band</td>\n",
       "      <td>0.635525</td>\n",
       "      <td>Rap</td>\n",
       "    </tr>\n",
       "    <tr>\n",
       "      <th>3</th>\n",
       "      <td>MSC_76365.0</td>\n",
       "      <td>Can’t You See</td>\n",
       "      <td>55.762</td>\n",
       "      <td>0.010284</td>\n",
       "      <td>0.616287</td>\n",
       "      <td>189189.605</td>\n",
       "      <td>0.970513</td>\n",
       "      <td>0.000220</td>\n",
       "      <td>Scale D</td>\n",
       "      <td>0.124637</td>\n",
       "      <td>-4.262</td>\n",
       "      <td>Both</td>\n",
       "      <td>Major</td>\n",
       "      <td>0.167493</td>\n",
       "      <td>?</td>\n",
       "      <td>Duet</td>\n",
       "      <td>0.983750</td>\n",
       "      <td>Rock</td>\n",
       "    </tr>\n",
       "    <tr>\n",
       "      <th>4</th>\n",
       "      <td>MSC_71493.0</td>\n",
       "      <td>Sonata III (G Moll), BWV 1029: Adagio</td>\n",
       "      <td>45.095</td>\n",
       "      <td>0.858769</td>\n",
       "      <td>0.280645</td>\n",
       "      <td>410136.987</td>\n",
       "      <td>0.114732</td>\n",
       "      <td>0.002753</td>\n",
       "      <td>Scale F Sharp</td>\n",
       "      <td>0.134782</td>\n",
       "      <td>-26.922</td>\n",
       "      <td>Female</td>\n",
       "      <td>Minor</td>\n",
       "      <td>0.039139</td>\n",
       "      <td>112.183</td>\n",
       "      <td>Band</td>\n",
       "      <td>0.074412</td>\n",
       "      <td>Classical</td>\n",
       "    </tr>\n",
       "  </tbody>\n",
       "</table>\n",
       "</div>"
      ],
      "text/plain": [
       "   instance_id                             track_name  popularity  \\\n",
       "0  MSC_83537.0                  Estrellitas y Duendes      49.178   \n",
       "1  MSC_22044.0                               Al Norte      59.827   \n",
       "2  MSC_62017.0       Yeah! (feat. Lil Jon & Ludacris)      89.023   \n",
       "3  MSC_76365.0                          Can’t You See      55.762   \n",
       "4  MSC_71493.0  Sonata III (G Moll), BWV 1029: Adagio      45.095   \n",
       "\n",
       "   acousticness  danceability  duration_ms    energy  instrumentalness  \\\n",
       "0      0.970522      0.580508   214625.776  0.192107          0.000000   \n",
       "1      1.009380      0.687542   216232.195  0.265942          0.000030   \n",
       "2      0.020041      0.967948   273314.723  0.857411          0.000000   \n",
       "3      0.010284      0.616287   189189.605  0.970513          0.000220   \n",
       "4      0.858769      0.280645   410136.987  0.114732          0.002753   \n",
       "\n",
       "             key  liveness  loudness voice_gender   mode  speechiness  \\\n",
       "0        Scale E  0.147134   -14.140          NaN  Major     0.046404   \n",
       "1        Scale A  0.174655   -13.716         Male      ?     0.039949   \n",
       "2        Scale D  0.042030    -4.995       Female  Major     0.119917   \n",
       "3        Scale D  0.124637    -4.262         Both  Major     0.167493   \n",
       "4  Scale F Sharp  0.134782   -26.922       Female  Minor     0.039139   \n",
       "\n",
       "     tempo musician_category   valence music_genre  \n",
       "0  143.788              Band  0.598965        Jazz  \n",
       "1        ?              Band  0.357194        Jazz  \n",
       "2  105.018              Band  0.635525         Rap  \n",
       "3        ?              Duet  0.983750        Rock  \n",
       "4  112.183              Band  0.074412   Classical  "
      ]
     },
     "execution_count": 56,
     "metadata": {},
     "output_type": "execute_result"
    }
   ],
   "source": [
    "## To display first 5 rows\n",
    "df.head()"
   ]
  },
  {
   "cell_type": "code",
   "execution_count": 57,
   "id": "2adca056",
   "metadata": {},
   "outputs": [
    {
     "data": {
      "text/plain": [
       "(15681, 18)"
      ]
     },
     "execution_count": 57,
     "metadata": {},
     "output_type": "execute_result"
    }
   ],
   "source": [
    "## To know the number of rows and columns\n",
    "df.shape"
   ]
  },
  {
   "cell_type": "code",
   "execution_count": 58,
   "id": "f30251cf",
   "metadata": {},
   "outputs": [
    {
     "name": "stdout",
     "output_type": "stream",
     "text": [
      "<class 'pandas.core.frame.DataFrame'>\n",
      "RangeIndex: 15681 entries, 0 to 15680\n",
      "Data columns (total 18 columns):\n",
      " #   Column             Non-Null Count  Dtype  \n",
      "---  ------             --------------  -----  \n",
      " 0   instance_id        15681 non-null  object \n",
      " 1   track_name         15681 non-null  object \n",
      " 2   popularity         15039 non-null  float64\n",
      " 3   acousticness       15681 non-null  float64\n",
      " 4   danceability       15125 non-null  float64\n",
      " 5   duration_ms        15587 non-null  float64\n",
      " 6   energy             15587 non-null  float64\n",
      " 7   instrumentalness   15586 non-null  float64\n",
      " 8   key                15681 non-null  object \n",
      " 9   liveness           15681 non-null  float64\n",
      " 10  loudness           15645 non-null  float64\n",
      " 11  voice_gender       14916 non-null  object \n",
      " 12  mode               15646 non-null  object \n",
      " 13  speechiness        15655 non-null  float64\n",
      " 14  tempo              15681 non-null  object \n",
      " 15  musician_category  14321 non-null  object \n",
      " 16  valence            15004 non-null  float64\n",
      " 17  music_genre        15681 non-null  object \n",
      "dtypes: float64(10), object(8)\n",
      "memory usage: 2.2+ MB\n"
     ]
    }
   ],
   "source": [
    "## To get the basic information about the dataset\n",
    "df.info()"
   ]
  },
  {
   "cell_type": "code",
   "execution_count": 59,
   "id": "002f2170",
   "metadata": {},
   "outputs": [
    {
     "data": {
      "text/html": [
       "<div>\n",
       "<style scoped>\n",
       "    .dataframe tbody tr th:only-of-type {\n",
       "        vertical-align: middle;\n",
       "    }\n",
       "\n",
       "    .dataframe tbody tr th {\n",
       "        vertical-align: top;\n",
       "    }\n",
       "\n",
       "    .dataframe thead th {\n",
       "        text-align: right;\n",
       "    }\n",
       "</style>\n",
       "<table border=\"1\" class=\"dataframe\">\n",
       "  <thead>\n",
       "    <tr style=\"text-align: right;\">\n",
       "      <th></th>\n",
       "      <th>popularity</th>\n",
       "      <th>acousticness</th>\n",
       "      <th>danceability</th>\n",
       "      <th>duration_ms</th>\n",
       "      <th>energy</th>\n",
       "      <th>instrumentalness</th>\n",
       "      <th>liveness</th>\n",
       "      <th>loudness</th>\n",
       "      <th>speechiness</th>\n",
       "      <th>valence</th>\n",
       "    </tr>\n",
       "  </thead>\n",
       "  <tbody>\n",
       "    <tr>\n",
       "      <th>count</th>\n",
       "      <td>15039.000000</td>\n",
       "      <td>15681.000000</td>\n",
       "      <td>15125.000000</td>\n",
       "      <td>1.558700e+04</td>\n",
       "      <td>15587.000000</td>\n",
       "      <td>15586.000000</td>\n",
       "      <td>15681.000000</td>\n",
       "      <td>15645.000000</td>\n",
       "      <td>15655.000000</td>\n",
       "      <td>15004.000000</td>\n",
       "    </tr>\n",
       "    <tr>\n",
       "      <th>mean</th>\n",
       "      <td>50.822720</td>\n",
       "      <td>0.446922</td>\n",
       "      <td>0.570106</td>\n",
       "      <td>2.480008e+05</td>\n",
       "      <td>0.426977</td>\n",
       "      <td>0.264290</td>\n",
       "      <td>0.194089</td>\n",
       "      <td>-11.621471</td>\n",
       "      <td>0.096411</td>\n",
       "      <td>0.451400</td>\n",
       "    </tr>\n",
       "    <tr>\n",
       "      <th>std</th>\n",
       "      <td>17.679789</td>\n",
       "      <td>0.416981</td>\n",
       "      <td>0.215045</td>\n",
       "      <td>1.568312e+05</td>\n",
       "      <td>0.514145</td>\n",
       "      <td>0.395788</td>\n",
       "      <td>0.160291</td>\n",
       "      <td>8.663364</td>\n",
       "      <td>0.105647</td>\n",
       "      <td>0.277220</td>\n",
       "    </tr>\n",
       "    <tr>\n",
       "      <th>min</th>\n",
       "      <td>0.000000</td>\n",
       "      <td>0.000002</td>\n",
       "      <td>0.063962</td>\n",
       "      <td>-1.000000e+00</td>\n",
       "      <td>-1.000000</td>\n",
       "      <td>0.000000</td>\n",
       "      <td>0.016652</td>\n",
       "      <td>-50.054000</td>\n",
       "      <td>0.023858</td>\n",
       "      <td>0.000000</td>\n",
       "    </tr>\n",
       "    <tr>\n",
       "      <th>25%</th>\n",
       "      <td>39.017000</td>\n",
       "      <td>0.044521</td>\n",
       "      <td>0.418635</td>\n",
       "      <td>1.860163e+05</td>\n",
       "      <td>0.158277</td>\n",
       "      <td>0.000000</td>\n",
       "      <td>0.101674</td>\n",
       "      <td>-15.504000</td>\n",
       "      <td>0.039549</td>\n",
       "      <td>0.212242</td>\n",
       "    </tr>\n",
       "    <tr>\n",
       "      <th>50%</th>\n",
       "      <td>54.109000</td>\n",
       "      <td>0.295272</td>\n",
       "      <td>0.586114</td>\n",
       "      <td>2.362127e+05</td>\n",
       "      <td>0.560389</td>\n",
       "      <td>0.000719</td>\n",
       "      <td>0.128784</td>\n",
       "      <td>-8.611000</td>\n",
       "      <td>0.050425</td>\n",
       "      <td>0.432478</td>\n",
       "    </tr>\n",
       "    <tr>\n",
       "      <th>75%</th>\n",
       "      <td>63.449000</td>\n",
       "      <td>0.929001</td>\n",
       "      <td>0.733073</td>\n",
       "      <td>2.975593e+05</td>\n",
       "      <td>0.791881</td>\n",
       "      <td>0.638930</td>\n",
       "      <td>0.228973</td>\n",
       "      <td>-5.715000</td>\n",
       "      <td>0.094230</td>\n",
       "      <td>0.665369</td>\n",
       "    </tr>\n",
       "    <tr>\n",
       "      <th>max</th>\n",
       "      <td>108.512000</td>\n",
       "      <td>1.094410</td>\n",
       "      <td>1.072089</td>\n",
       "      <td>3.410383e+06</td>\n",
       "      <td>1.094853</td>\n",
       "      <td>1.078601</td>\n",
       "      <td>1.080959</td>\n",
       "      <td>1.389000</td>\n",
       "      <td>1.000445</td>\n",
       "      <td>1.076971</td>\n",
       "    </tr>\n",
       "  </tbody>\n",
       "</table>\n",
       "</div>"
      ],
      "text/plain": [
       "         popularity  acousticness  danceability   duration_ms        energy  \\\n",
       "count  15039.000000  15681.000000  15125.000000  1.558700e+04  15587.000000   \n",
       "mean      50.822720      0.446922      0.570106  2.480008e+05      0.426977   \n",
       "std       17.679789      0.416981      0.215045  1.568312e+05      0.514145   \n",
       "min        0.000000      0.000002      0.063962 -1.000000e+00     -1.000000   \n",
       "25%       39.017000      0.044521      0.418635  1.860163e+05      0.158277   \n",
       "50%       54.109000      0.295272      0.586114  2.362127e+05      0.560389   \n",
       "75%       63.449000      0.929001      0.733073  2.975593e+05      0.791881   \n",
       "max      108.512000      1.094410      1.072089  3.410383e+06      1.094853   \n",
       "\n",
       "       instrumentalness      liveness      loudness   speechiness  \\\n",
       "count      15586.000000  15681.000000  15645.000000  15655.000000   \n",
       "mean           0.264290      0.194089    -11.621471      0.096411   \n",
       "std            0.395788      0.160291      8.663364      0.105647   \n",
       "min            0.000000      0.016652    -50.054000      0.023858   \n",
       "25%            0.000000      0.101674    -15.504000      0.039549   \n",
       "50%            0.000719      0.128784     -8.611000      0.050425   \n",
       "75%            0.638930      0.228973     -5.715000      0.094230   \n",
       "max            1.078601      1.080959      1.389000      1.000445   \n",
       "\n",
       "            valence  \n",
       "count  15004.000000  \n",
       "mean       0.451400  \n",
       "std        0.277220  \n",
       "min        0.000000  \n",
       "25%        0.212242  \n",
       "50%        0.432478  \n",
       "75%        0.665369  \n",
       "max        1.076971  "
      ]
     },
     "execution_count": 59,
     "metadata": {},
     "output_type": "execute_result"
    }
   ],
   "source": [
    "# To find statistical details\n",
    "df.describe()"
   ]
  },
  {
   "cell_type": "code",
   "execution_count": 60,
   "id": "51b44cb6",
   "metadata": {},
   "outputs": [
    {
     "data": {
      "text/plain": [
       "instance_id             0\n",
       "track_name              0\n",
       "popularity            642\n",
       "acousticness            0\n",
       "danceability          556\n",
       "duration_ms            94\n",
       "energy                 94\n",
       "instrumentalness       95\n",
       "key                     0\n",
       "liveness                0\n",
       "loudness               36\n",
       "voice_gender          765\n",
       "mode                   35\n",
       "speechiness            26\n",
       "tempo                   0\n",
       "musician_category    1360\n",
       "valence               677\n",
       "music_genre             0\n",
       "dtype: int64"
      ]
     },
     "execution_count": 60,
     "metadata": {},
     "output_type": "execute_result"
    }
   ],
   "source": [
    "# to find the missing values\n",
    "df.isna().sum()"
   ]
  },
  {
   "cell_type": "markdown",
   "id": "b4416689",
   "metadata": {},
   "source": [
    "## Data Splitting"
   ]
  },
  {
   "cell_type": "code",
   "execution_count": 61,
   "id": "f1f47cc1",
   "metadata": {},
   "outputs": [
    {
     "name": "stdout",
     "output_type": "stream",
     "text": [
      "There are 10 numerical features: \n",
      "\n",
      "['popularity', 'acousticness', 'danceability', 'duration_ms', 'energy', 'instrumentalness', 'liveness', 'loudness', 'speechiness', 'valence']\n"
     ]
    }
   ],
   "source": [
    "##Selecting numerical features\n",
    "numerical_data = df.select_dtypes(include='number')\n",
    "#append the features of numerical_data to list\n",
    "numerical_features=numerical_data.columns.tolist()\n",
    "\n",
    "print(f'There are {len(numerical_features)} numerical features:', '\\n')\n",
    "print(numerical_features)"
   ]
  },
  {
   "cell_type": "code",
   "execution_count": 62,
   "id": "456347ef",
   "metadata": {},
   "outputs": [
    {
     "name": "stdout",
     "output_type": "stream",
     "text": [
      "There are 8 categorical features: \n",
      "\n",
      "['instance_id', 'track_name', 'key', 'voice_gender', 'mode', 'tempo', 'musician_category', 'music_genre']\n"
     ]
    }
   ],
   "source": [
    "#Selecting categoricalfeatures\n",
    "categorical_data=df.select_dtypes(include= 'object')\n",
    "#append the features of categorical_data to list\n",
    "categorical_features=categorical_data.columns.tolist()\n",
    "\n",
    "print(f'There are {len(categorical_features)} categorical features:', '\\n')\n",
    "print(categorical_features)"
   ]
  },
  {
   "cell_type": "code",
   "execution_count": 63,
   "id": "e4052e4b",
   "metadata": {},
   "outputs": [
    {
     "data": {
      "text/plain": [
       "popularity          3.125749e+02\n",
       "acousticness        1.738731e-01\n",
       "danceability        4.624424e-02\n",
       "duration_ms         2.459602e+10\n",
       "energy              2.643451e-01\n",
       "instrumentalness    1.566481e-01\n",
       "liveness            2.569335e-02\n",
       "loudness            7.505387e+01\n",
       "speechiness         1.116123e-02\n",
       "valence             7.685070e-02\n",
       "dtype: float64"
      ]
     },
     "execution_count": 63,
     "metadata": {},
     "output_type": "execute_result"
    }
   ],
   "source": [
    "#Variance of each numerical features\n",
    "numerical_data.var()"
   ]
  },
  {
   "cell_type": "code",
   "execution_count": 64,
   "id": "df361a35",
   "metadata": {},
   "outputs": [
    {
     "data": {
      "text/plain": [
       "popularity         -0.680147\n",
       "acousticness        0.380437\n",
       "danceability       -0.236342\n",
       "duration_ms         2.637880\n",
       "energy             -1.469391\n",
       "instrumentalness    1.020146\n",
       "liveness            2.336502\n",
       "loudness           -1.234906\n",
       "speechiness         2.540799\n",
       "valence             0.253172\n",
       "dtype: float64"
      ]
     },
     "execution_count": 64,
     "metadata": {},
     "output_type": "execute_result"
    }
   ],
   "source": [
    "#Skew in numerical features\n",
    "numerical_data.skew()"
   ]
  },
  {
   "cell_type": "code",
   "execution_count": 65,
   "id": "e8074948",
   "metadata": {},
   "outputs": [
    {
     "data": {
      "image/png": "[encoded data removed]",
      "text/plain": [
       "<Figure size 2400x2400 with 12 Axes>"
      ]
     },
     "metadata": {},
     "output_type": "display_data"
    }
   ],
   "source": [
    "# Histograms to find the distributions and outlier in the each feature\n",
    "numerical_data.hist(figsize=(24,24),bins=20)\n",
    "plt.show()"
   ]
  },
  {
   "cell_type": "code",
   "execution_count": 66,
   "id": "646c926f",
   "metadata": {},
   "outputs": [
    {
     "data": {
      "text/plain": [
       "popularity          12743\n",
       "acousticness        15660\n",
       "danceability        15125\n",
       "duration_ms         14011\n",
       "energy              14371\n",
       "instrumentalness     9950\n",
       "liveness            15681\n",
       "loudness            10473\n",
       "speechiness         15655\n",
       "valence             15003\n",
       "dtype: int64"
      ]
     },
     "execution_count": 66,
     "metadata": {},
     "output_type": "execute_result"
    }
   ],
   "source": [
    "# Number Unique values in each feature\n",
    "numerical_data.nunique()"
   ]
  },
  {
   "cell_type": "code",
   "execution_count": 67,
   "id": "e3768064",
   "metadata": {},
   "outputs": [
    {
     "data": {
      "text/plain": [
       "instance_id          15681\n",
       "track_name           14799\n",
       "key                     12\n",
       "voice_gender             3\n",
       "mode                     3\n",
       "tempo                12332\n",
       "musician_category        3\n",
       "music_genre              7\n",
       "dtype: int64"
      ]
     },
     "execution_count": 67,
     "metadata": {},
     "output_type": "execute_result"
    }
   ],
   "source": [
    "categorical_data.nunique()"
   ]
  },
  {
   "cell_type": "code",
   "execution_count": 68,
   "id": "4894489f",
   "metadata": {},
   "outputs": [
    {
     "name": "stderr",
     "output_type": "stream",
     "text": [
      "C:\\Users\\jinuv\\AppData\\Local\\Temp\\ipykernel_5904\\3247364276.py:4: FutureWarning: The default value of numeric_only in DataFrame.corr is deprecated. In a future version, it will default to False. Select only valid columns or specify the value of numeric_only to silence this warning.\n",
      "  sns.heatmap(df.corr(), ax=ax, annot=True)\n"
     ]
    },
    {
     "data": {
      "image/png": "[encoded data removed]",
      "text/plain": [
       "<Figure size 4000x3000 with 2 Axes>"
      ]
     },
     "metadata": {},
     "output_type": "display_data"
    }
   ],
   "source": [
    "#Correlation Heatmap plot of whole dataset\n",
    "# Plot correlation matrix in heatmap\n",
    "fig, ax = plt.subplots(figsize=(40, 30))\n",
    "sns.heatmap(df.corr(), ax=ax, annot=True)\n",
    "plt.show()"
   ]
  },
  {
   "cell_type": "code",
   "execution_count": 69,
   "id": "64c0d292",
   "metadata": {},
   "outputs": [
    {
     "data": {
      "text/plain": [
       "instance_id             0\n",
       "track_name              0\n",
       "key                     0\n",
       "voice_gender          765\n",
       "mode                   35\n",
       "tempo                   0\n",
       "musician_category    1360\n",
       "music_genre             0\n",
       "dtype: int64"
      ]
     },
     "execution_count": 69,
     "metadata": {},
     "output_type": "execute_result"
    }
   ],
   "source": [
    "## To know the missing values\n",
    "categorical_data.isna().sum()"
   ]
  },
  {
   "cell_type": "code",
   "execution_count": 70,
   "id": "3e4b066b",
   "metadata": {},
   "outputs": [],
   "source": [
    "## To fill missing values in categorical column\n",
    "for i in ['voice_gender','mode','musician_category']:\n",
    "    df[i]=df[i].fillna(df[i].mode()[0])"
   ]
  },
  {
   "cell_type": "code",
   "execution_count": 71,
   "id": "31003844",
   "metadata": {},
   "outputs": [
    {
     "data": {
      "text/plain": [
       "popularity          642\n",
       "acousticness          0\n",
       "danceability        556\n",
       "duration_ms          94\n",
       "energy               94\n",
       "instrumentalness     95\n",
       "liveness              0\n",
       "loudness             36\n",
       "speechiness          26\n",
       "valence             677\n",
       "dtype: int64"
      ]
     },
     "execution_count": 71,
     "metadata": {},
     "output_type": "execute_result"
    }
   ],
   "source": [
    "## To know the missing values\n",
    "numerical_data.isna().sum()"
   ]
  },
  {
   "cell_type": "code",
   "execution_count": 72,
   "id": "1efd7563",
   "metadata": {},
   "outputs": [],
   "source": [
    "## To fill missing values in numerical columns\n",
    "for i in ['popularity','danceability','duration_ms','energy','instrumentalness','loudness','speechiness','valence']:\n",
    "    df[i]=df[i].fillna(df[i].median())"
   ]
  },
  {
   "cell_type": "code",
   "execution_count": 73,
   "id": "0af203cb",
   "metadata": {},
   "outputs": [
    {
     "data": {
      "text/plain": [
       "instance_id          0\n",
       "track_name           0\n",
       "popularity           0\n",
       "acousticness         0\n",
       "danceability         0\n",
       "duration_ms          0\n",
       "energy               0\n",
       "instrumentalness     0\n",
       "key                  0\n",
       "liveness             0\n",
       "loudness             0\n",
       "voice_gender         0\n",
       "mode                 0\n",
       "speechiness          0\n",
       "tempo                0\n",
       "musician_category    0\n",
       "valence              0\n",
       "music_genre          0\n",
       "dtype: int64"
      ]
     },
     "execution_count": 73,
     "metadata": {},
     "output_type": "execute_result"
    }
   ],
   "source": [
    "# missing values\n",
    "df.isnull().sum()"
   ]
  },
  {
   "cell_type": "code",
   "execution_count": 74,
   "id": "fffed9c7",
   "metadata": {},
   "outputs": [],
   "source": [
    "# Define a function to detect outliers using Z-score\n",
    "def find_outliers_zscore(df, threshold=3):\n",
    "    z_scores = np.abs((df - df.mean()) / df.std())\n",
    "    return z_scores > threshold"
   ]
  },
  {
   "cell_type": "code",
   "execution_count": 75,
   "id": "bac81418",
   "metadata": {},
   "outputs": [],
   "source": [
    "outliers_all_columns = df.drop(columns=['instance_id','voice_gender','mode','musician_category','track_name','key','tempo','music_genre']).apply(find_outliers_zscore)"
   ]
  },
  {
   "cell_type": "code",
   "execution_count": 76,
   "id": "4ab6a63f",
   "metadata": {},
   "outputs": [],
   "source": [
    "outliers_rows = outliers_all_columns.any(axis=1)\n",
    "outliers_detected = df[outliers_rows]"
   ]
  },
  {
   "cell_type": "code",
   "execution_count": 77,
   "id": "502e2653",
   "metadata": {},
   "outputs": [],
   "source": [
    "# Get the index of potential outliers\n",
    "potential_outliers_index = outliers_detected.index"
   ]
  },
  {
   "cell_type": "code",
   "execution_count": 78,
   "id": "4a8a70a6",
   "metadata": {},
   "outputs": [
    {
     "data": {
      "text/plain": [
       "Int64Index([   15,    40,    46,    49,    53,    66,    81,    85,    91,\n",
       "               92,\n",
       "            ...\n",
       "            15602, 15612, 15618, 15627, 15636, 15653, 15654, 15655, 15673,\n",
       "            15677],\n",
       "           dtype='int64', length=1207)"
      ]
     },
     "execution_count": 78,
     "metadata": {},
     "output_type": "execute_result"
    }
   ],
   "source": [
    "potential_outliers_index"
   ]
  },
  {
   "cell_type": "code",
   "execution_count": 79,
   "id": "a8d2d45d",
   "metadata": {},
   "outputs": [],
   "source": [
    "# Remove the potential outliers from the original DataFrame\n",
    "df_cleaned = df.drop(index=potential_outliers_index)"
   ]
  },
  {
   "cell_type": "code",
   "execution_count": 80,
   "id": "a989072c",
   "metadata": {},
   "outputs": [],
   "source": [
    "# After removing outliers and storing the cleaned DataFrame in 'df_cleaned'\n",
    "# Reset the index of the DataFrame\n",
    "df_cleaned.reset_index(drop=True, inplace=True)"
   ]
  },
  {
   "cell_type": "markdown",
   "id": "7fc0756e",
   "metadata": {},
   "source": [
    "## Label Encoding"
   ]
  },
  {
   "cell_type": "code",
   "execution_count": 81,
   "id": "ff422854",
   "metadata": {},
   "outputs": [],
   "source": [
    "from sklearn.preprocessing import LabelEncoder\n",
    "le = LabelEncoder()\n",
    "df_cleaned['key'] = le.fit_transform(df_cleaned['key'])\n",
    "df_cleaned['voice_gender'] = le.fit_transform(df_cleaned['voice_gender'])\n",
    "df_cleaned['mode'] = le.fit_transform(df_cleaned['mode'])\n",
    "df_cleaned['tempo'] = le.fit_transform(df_cleaned['tempo'])\n",
    "df_cleaned['musician_category'] = le.fit_transform(df_cleaned['musician_category'])\n",
    "df_cleaned['music_genre'] = le.fit_transform(df_cleaned['music_genre'])"
   ]
  },
  {
   "cell_type": "code",
   "execution_count": 83,
   "id": "f86f9947",
   "metadata": {},
   "outputs": [
    {
     "data": {
      "text/html": [
       "<div>\n",
       "<style scoped>\n",
       "    .dataframe tbody tr th:only-of-type {\n",
       "        vertical-align: middle;\n",
       "    }\n",
       "\n",
       "    .dataframe tbody tr th {\n",
       "        vertical-align: top;\n",
       "    }\n",
       "\n",
       "    .dataframe thead th {\n",
       "        text-align: right;\n",
       "    }\n",
       "</style>\n",
       "<table border=\"1\" class=\"dataframe\">\n",
       "  <thead>\n",
       "    <tr style=\"text-align: right;\">\n",
       "      <th></th>\n",
       "      <th>instance_id</th>\n",
       "      <th>track_name</th>\n",
       "      <th>popularity</th>\n",
       "      <th>acousticness</th>\n",
       "      <th>danceability</th>\n",
       "      <th>duration_ms</th>\n",
       "      <th>energy</th>\n",
       "      <th>instrumentalness</th>\n",
       "      <th>key</th>\n",
       "      <th>liveness</th>\n",
       "      <th>loudness</th>\n",
       "      <th>voice_gender</th>\n",
       "      <th>mode</th>\n",
       "      <th>speechiness</th>\n",
       "      <th>tempo</th>\n",
       "      <th>musician_category</th>\n",
       "      <th>valence</th>\n",
       "      <th>music_genre</th>\n",
       "    </tr>\n",
       "  </thead>\n",
       "  <tbody>\n",
       "    <tr>\n",
       "      <th>0</th>\n",
       "      <td>MSC_83537.0</td>\n",
       "      <td>Estrellitas y Duendes</td>\n",
       "      <td>49.178</td>\n",
       "      <td>0.970522</td>\n",
       "      <td>0.580508</td>\n",
       "      <td>214625.776</td>\n",
       "      <td>0.192107</td>\n",
       "      <td>0.000000</td>\n",
       "      <td>7</td>\n",
       "      <td>0.147134</td>\n",
       "      <td>-14.140</td>\n",
       "      <td>1</td>\n",
       "      <td>1</td>\n",
       "      <td>0.046404</td>\n",
       "      <td>4955</td>\n",
       "      <td>0</td>\n",
       "      <td>0.598965</td>\n",
       "      <td>4</td>\n",
       "    </tr>\n",
       "    <tr>\n",
       "      <th>1</th>\n",
       "      <td>MSC_22044.0</td>\n",
       "      <td>Al Norte</td>\n",
       "      <td>59.827</td>\n",
       "      <td>1.009380</td>\n",
       "      <td>0.687542</td>\n",
       "      <td>216232.195</td>\n",
       "      <td>0.265942</td>\n",
       "      <td>0.000030</td>\n",
       "      <td>0</td>\n",
       "      <td>0.174655</td>\n",
       "      <td>-13.716</td>\n",
       "      <td>2</td>\n",
       "      <td>0</td>\n",
       "      <td>0.039949</td>\n",
       "      <td>11415</td>\n",
       "      <td>0</td>\n",
       "      <td>0.357194</td>\n",
       "      <td>4</td>\n",
       "    </tr>\n",
       "    <tr>\n",
       "      <th>2</th>\n",
       "      <td>MSC_62017.0</td>\n",
       "      <td>Yeah! (feat. Lil Jon &amp; Ludacris)</td>\n",
       "      <td>89.023</td>\n",
       "      <td>0.020041</td>\n",
       "      <td>0.967948</td>\n",
       "      <td>273314.723</td>\n",
       "      <td>0.857411</td>\n",
       "      <td>0.000000</td>\n",
       "      <td>5</td>\n",
       "      <td>0.042030</td>\n",
       "      <td>-4.995</td>\n",
       "      <td>1</td>\n",
       "      <td>1</td>\n",
       "      <td>0.119917</td>\n",
       "      <td>582</td>\n",
       "      <td>0</td>\n",
       "      <td>0.635525</td>\n",
       "      <td>5</td>\n",
       "    </tr>\n",
       "    <tr>\n",
       "      <th>3</th>\n",
       "      <td>MSC_76365.0</td>\n",
       "      <td>Can’t You See</td>\n",
       "      <td>55.762</td>\n",
       "      <td>0.010284</td>\n",
       "      <td>0.616287</td>\n",
       "      <td>189189.605</td>\n",
       "      <td>0.970513</td>\n",
       "      <td>0.000220</td>\n",
       "      <td>5</td>\n",
       "      <td>0.124637</td>\n",
       "      <td>-4.262</td>\n",
       "      <td>0</td>\n",
       "      <td>1</td>\n",
       "      <td>0.167493</td>\n",
       "      <td>11415</td>\n",
       "      <td>1</td>\n",
       "      <td>0.983750</td>\n",
       "      <td>6</td>\n",
       "    </tr>\n",
       "    <tr>\n",
       "      <th>4</th>\n",
       "      <td>MSC_71493.0</td>\n",
       "      <td>Sonata III (G Moll), BWV 1029: Adagio</td>\n",
       "      <td>45.095</td>\n",
       "      <td>0.858769</td>\n",
       "      <td>0.280645</td>\n",
       "      <td>410136.987</td>\n",
       "      <td>0.114732</td>\n",
       "      <td>0.002753</td>\n",
       "      <td>9</td>\n",
       "      <td>0.134782</td>\n",
       "      <td>-26.922</td>\n",
       "      <td>1</td>\n",
       "      <td>2</td>\n",
       "      <td>0.039139</td>\n",
       "      <td>1374</td>\n",
       "      <td>0</td>\n",
       "      <td>0.074412</td>\n",
       "      <td>0</td>\n",
       "    </tr>\n",
       "    <tr>\n",
       "      <th>...</th>\n",
       "      <td>...</td>\n",
       "      <td>...</td>\n",
       "      <td>...</td>\n",
       "      <td>...</td>\n",
       "      <td>...</td>\n",
       "      <td>...</td>\n",
       "      <td>...</td>\n",
       "      <td>...</td>\n",
       "      <td>...</td>\n",
       "      <td>...</td>\n",
       "      <td>...</td>\n",
       "      <td>...</td>\n",
       "      <td>...</td>\n",
       "      <td>...</td>\n",
       "      <td>...</td>\n",
       "      <td>...</td>\n",
       "      <td>...</td>\n",
       "      <td>...</td>\n",
       "    </tr>\n",
       "    <tr>\n",
       "      <th>14469</th>\n",
       "      <td>MSC_61517.0</td>\n",
       "      <td>Mother Of God, Here I Stand</td>\n",
       "      <td>28.318</td>\n",
       "      <td>1.054190</td>\n",
       "      <td>0.136130</td>\n",
       "      <td>188388.500</td>\n",
       "      <td>0.042151</td>\n",
       "      <td>1.024128</td>\n",
       "      <td>10</td>\n",
       "      <td>0.135912</td>\n",
       "      <td>-29.236</td>\n",
       "      <td>1</td>\n",
       "      <td>1</td>\n",
       "      <td>0.057739</td>\n",
       "      <td>7765</td>\n",
       "      <td>2</td>\n",
       "      <td>0.040686</td>\n",
       "      <td>0</td>\n",
       "    </tr>\n",
       "    <tr>\n",
       "      <th>14470</th>\n",
       "      <td>MSC_73047.0</td>\n",
       "      <td>I. Andante</td>\n",
       "      <td>0.000</td>\n",
       "      <td>0.866988</td>\n",
       "      <td>0.387476</td>\n",
       "      <td>-1.000</td>\n",
       "      <td>0.196799</td>\n",
       "      <td>0.028725</td>\n",
       "      <td>2</td>\n",
       "      <td>0.248399</td>\n",
       "      <td>-16.331</td>\n",
       "      <td>1</td>\n",
       "      <td>1</td>\n",
       "      <td>0.045251</td>\n",
       "      <td>2653</td>\n",
       "      <td>0</td>\n",
       "      <td>0.624518</td>\n",
       "      <td>0</td>\n",
       "    </tr>\n",
       "    <tr>\n",
       "      <th>14471</th>\n",
       "      <td>MSC_32827.0</td>\n",
       "      <td>Moment's Notice</td>\n",
       "      <td>35.082</td>\n",
       "      <td>0.905281</td>\n",
       "      <td>0.566619</td>\n",
       "      <td>581799.061</td>\n",
       "      <td>0.543673</td>\n",
       "      <td>0.209238</td>\n",
       "      <td>6</td>\n",
       "      <td>0.416611</td>\n",
       "      <td>-10.246</td>\n",
       "      <td>1</td>\n",
       "      <td>1</td>\n",
       "      <td>0.040625</td>\n",
       "      <td>2630</td>\n",
       "      <td>0</td>\n",
       "      <td>0.869294</td>\n",
       "      <td>4</td>\n",
       "    </tr>\n",
       "    <tr>\n",
       "      <th>14472</th>\n",
       "      <td>MSC_89976.0</td>\n",
       "      <td>Such Small Scenes</td>\n",
       "      <td>59.693</td>\n",
       "      <td>0.113408</td>\n",
       "      <td>0.644554</td>\n",
       "      <td>151226.592</td>\n",
       "      <td>0.912201</td>\n",
       "      <td>0.000089</td>\n",
       "      <td>8</td>\n",
       "      <td>0.166336</td>\n",
       "      <td>-7.257</td>\n",
       "      <td>0</td>\n",
       "      <td>2</td>\n",
       "      <td>0.060308</td>\n",
       "      <td>1795</td>\n",
       "      <td>1</td>\n",
       "      <td>0.402700</td>\n",
       "      <td>6</td>\n",
       "    </tr>\n",
       "    <tr>\n",
       "      <th>14473</th>\n",
       "      <td>MSC_43297.0</td>\n",
       "      <td>Dogs of War</td>\n",
       "      <td>56.518</td>\n",
       "      <td>0.847136</td>\n",
       "      <td>0.502160</td>\n",
       "      <td>190735.191</td>\n",
       "      <td>0.470057</td>\n",
       "      <td>0.502878</td>\n",
       "      <td>8</td>\n",
       "      <td>0.143114</td>\n",
       "      <td>-11.043</td>\n",
       "      <td>1</td>\n",
       "      <td>1</td>\n",
       "      <td>0.029906</td>\n",
       "      <td>10620</td>\n",
       "      <td>2</td>\n",
       "      <td>0.358777</td>\n",
       "      <td>0</td>\n",
       "    </tr>\n",
       "  </tbody>\n",
       "</table>\n",
       "<p>14474 rows × 18 columns</p>\n",
       "</div>"
      ],
      "text/plain": [
       "       instance_id                             track_name  popularity  \\\n",
       "0      MSC_83537.0                  Estrellitas y Duendes      49.178   \n",
       "1      MSC_22044.0                               Al Norte      59.827   \n",
       "2      MSC_62017.0       Yeah! (feat. Lil Jon & Ludacris)      89.023   \n",
       "3      MSC_76365.0                          Can’t You See      55.762   \n",
       "4      MSC_71493.0  Sonata III (G Moll), BWV 1029: Adagio      45.095   \n",
       "...            ...                                    ...         ...   \n",
       "14469  MSC_61517.0            Mother Of God, Here I Stand      28.318   \n",
       "14470  MSC_73047.0                             I. Andante       0.000   \n",
       "14471  MSC_32827.0                        Moment's Notice      35.082   \n",
       "14472  MSC_89976.0                      Such Small Scenes      59.693   \n",
       "14473  MSC_43297.0                            Dogs of War      56.518   \n",
       "\n",
       "       acousticness  danceability  duration_ms    energy  instrumentalness  \\\n",
       "0          0.970522      0.580508   214625.776  0.192107          0.000000   \n",
       "1          1.009380      0.687542   216232.195  0.265942          0.000030   \n",
       "2          0.020041      0.967948   273314.723  0.857411          0.000000   \n",
       "3          0.010284      0.616287   189189.605  0.970513          0.000220   \n",
       "4          0.858769      0.280645   410136.987  0.114732          0.002753   \n",
       "...             ...           ...          ...       ...               ...   \n",
       "14469      1.054190      0.136130   188388.500  0.042151          1.024128   \n",
       "14470      0.866988      0.387476       -1.000  0.196799          0.028725   \n",
       "14471      0.905281      0.566619   581799.061  0.543673          0.209238   \n",
       "14472      0.113408      0.644554   151226.592  0.912201          0.000089   \n",
       "14473      0.847136      0.502160   190735.191  0.470057          0.502878   \n",
       "\n",
       "       key  liveness  loudness  voice_gender  mode  speechiness  tempo  \\\n",
       "0        7  0.147134   -14.140             1     1     0.046404   4955   \n",
       "1        0  0.174655   -13.716             2     0     0.039949  11415   \n",
       "2        5  0.042030    -4.995             1     1     0.119917    582   \n",
       "3        5  0.124637    -4.262             0     1     0.167493  11415   \n",
       "4        9  0.134782   -26.922             1     2     0.039139   1374   \n",
       "...    ...       ...       ...           ...   ...          ...    ...   \n",
       "14469   10  0.135912   -29.236             1     1     0.057739   7765   \n",
       "14470    2  0.248399   -16.331             1     1     0.045251   2653   \n",
       "14471    6  0.416611   -10.246             1     1     0.040625   2630   \n",
       "14472    8  0.166336    -7.257             0     2     0.060308   1795   \n",
       "14473    8  0.143114   -11.043             1     1     0.029906  10620   \n",
       "\n",
       "       musician_category   valence  music_genre  \n",
       "0                      0  0.598965            4  \n",
       "1                      0  0.357194            4  \n",
       "2                      0  0.635525            5  \n",
       "3                      1  0.983750            6  \n",
       "4                      0  0.074412            0  \n",
       "...                  ...       ...          ...  \n",
       "14469                  2  0.040686            0  \n",
       "14470                  0  0.624518            0  \n",
       "14471                  0  0.869294            4  \n",
       "14472                  1  0.402700            6  \n",
       "14473                  2  0.358777            0  \n",
       "\n",
       "[14474 rows x 18 columns]"
      ]
     },
     "execution_count": 83,
     "metadata": {},
     "output_type": "execute_result"
    }
   ],
   "source": [
    "df_cleaned"
   ]
  },
  {
   "cell_type": "code",
   "execution_count": 84,
   "id": "eb61e973",
   "metadata": {},
   "outputs": [],
   "source": [
    "df_cleaned.drop([\"instance_id\",\"track_name\"],axis=1,inplace=True)"
   ]
  },
  {
   "cell_type": "code",
   "execution_count": 85,
   "id": "2cf2ca43",
   "metadata": {},
   "outputs": [
    {
     "data": {
      "text/html": [
       "<div>\n",
       "<style scoped>\n",
       "    .dataframe tbody tr th:only-of-type {\n",
       "        vertical-align: middle;\n",
       "    }\n",
       "\n",
       "    .dataframe tbody tr th {\n",
       "        vertical-align: top;\n",
       "    }\n",
       "\n",
       "    .dataframe thead th {\n",
       "        text-align: right;\n",
       "    }\n",
       "</style>\n",
       "<table border=\"1\" class=\"dataframe\">\n",
       "  <thead>\n",
       "    <tr style=\"text-align: right;\">\n",
       "      <th></th>\n",
       "      <th>popularity</th>\n",
       "      <th>acousticness</th>\n",
       "      <th>danceability</th>\n",
       "      <th>duration_ms</th>\n",
       "      <th>energy</th>\n",
       "      <th>instrumentalness</th>\n",
       "      <th>key</th>\n",
       "      <th>liveness</th>\n",
       "      <th>loudness</th>\n",
       "      <th>voice_gender</th>\n",
       "      <th>mode</th>\n",
       "      <th>speechiness</th>\n",
       "      <th>tempo</th>\n",
       "      <th>musician_category</th>\n",
       "      <th>valence</th>\n",
       "      <th>music_genre</th>\n",
       "    </tr>\n",
       "  </thead>\n",
       "  <tbody>\n",
       "    <tr>\n",
       "      <th>0</th>\n",
       "      <td>49.178</td>\n",
       "      <td>0.970522</td>\n",
       "      <td>0.580508</td>\n",
       "      <td>214625.776</td>\n",
       "      <td>0.192107</td>\n",
       "      <td>0.000000</td>\n",
       "      <td>7</td>\n",
       "      <td>0.147134</td>\n",
       "      <td>-14.140</td>\n",
       "      <td>1</td>\n",
       "      <td>1</td>\n",
       "      <td>0.046404</td>\n",
       "      <td>4955</td>\n",
       "      <td>0</td>\n",
       "      <td>0.598965</td>\n",
       "      <td>4</td>\n",
       "    </tr>\n",
       "    <tr>\n",
       "      <th>1</th>\n",
       "      <td>59.827</td>\n",
       "      <td>1.009380</td>\n",
       "      <td>0.687542</td>\n",
       "      <td>216232.195</td>\n",
       "      <td>0.265942</td>\n",
       "      <td>0.000030</td>\n",
       "      <td>0</td>\n",
       "      <td>0.174655</td>\n",
       "      <td>-13.716</td>\n",
       "      <td>2</td>\n",
       "      <td>0</td>\n",
       "      <td>0.039949</td>\n",
       "      <td>11415</td>\n",
       "      <td>0</td>\n",
       "      <td>0.357194</td>\n",
       "      <td>4</td>\n",
       "    </tr>\n",
       "    <tr>\n",
       "      <th>2</th>\n",
       "      <td>89.023</td>\n",
       "      <td>0.020041</td>\n",
       "      <td>0.967948</td>\n",
       "      <td>273314.723</td>\n",
       "      <td>0.857411</td>\n",
       "      <td>0.000000</td>\n",
       "      <td>5</td>\n",
       "      <td>0.042030</td>\n",
       "      <td>-4.995</td>\n",
       "      <td>1</td>\n",
       "      <td>1</td>\n",
       "      <td>0.119917</td>\n",
       "      <td>582</td>\n",
       "      <td>0</td>\n",
       "      <td>0.635525</td>\n",
       "      <td>5</td>\n",
       "    </tr>\n",
       "    <tr>\n",
       "      <th>3</th>\n",
       "      <td>55.762</td>\n",
       "      <td>0.010284</td>\n",
       "      <td>0.616287</td>\n",
       "      <td>189189.605</td>\n",
       "      <td>0.970513</td>\n",
       "      <td>0.000220</td>\n",
       "      <td>5</td>\n",
       "      <td>0.124637</td>\n",
       "      <td>-4.262</td>\n",
       "      <td>0</td>\n",
       "      <td>1</td>\n",
       "      <td>0.167493</td>\n",
       "      <td>11415</td>\n",
       "      <td>1</td>\n",
       "      <td>0.983750</td>\n",
       "      <td>6</td>\n",
       "    </tr>\n",
       "    <tr>\n",
       "      <th>4</th>\n",
       "      <td>45.095</td>\n",
       "      <td>0.858769</td>\n",
       "      <td>0.280645</td>\n",
       "      <td>410136.987</td>\n",
       "      <td>0.114732</td>\n",
       "      <td>0.002753</td>\n",
       "      <td>9</td>\n",
       "      <td>0.134782</td>\n",
       "      <td>-26.922</td>\n",
       "      <td>1</td>\n",
       "      <td>2</td>\n",
       "      <td>0.039139</td>\n",
       "      <td>1374</td>\n",
       "      <td>0</td>\n",
       "      <td>0.074412</td>\n",
       "      <td>0</td>\n",
       "    </tr>\n",
       "    <tr>\n",
       "      <th>...</th>\n",
       "      <td>...</td>\n",
       "      <td>...</td>\n",
       "      <td>...</td>\n",
       "      <td>...</td>\n",
       "      <td>...</td>\n",
       "      <td>...</td>\n",
       "      <td>...</td>\n",
       "      <td>...</td>\n",
       "      <td>...</td>\n",
       "      <td>...</td>\n",
       "      <td>...</td>\n",
       "      <td>...</td>\n",
       "      <td>...</td>\n",
       "      <td>...</td>\n",
       "      <td>...</td>\n",
       "      <td>...</td>\n",
       "    </tr>\n",
       "    <tr>\n",
       "      <th>14469</th>\n",
       "      <td>28.318</td>\n",
       "      <td>1.054190</td>\n",
       "      <td>0.136130</td>\n",
       "      <td>188388.500</td>\n",
       "      <td>0.042151</td>\n",
       "      <td>1.024128</td>\n",
       "      <td>10</td>\n",
       "      <td>0.135912</td>\n",
       "      <td>-29.236</td>\n",
       "      <td>1</td>\n",
       "      <td>1</td>\n",
       "      <td>0.057739</td>\n",
       "      <td>7765</td>\n",
       "      <td>2</td>\n",
       "      <td>0.040686</td>\n",
       "      <td>0</td>\n",
       "    </tr>\n",
       "    <tr>\n",
       "      <th>14470</th>\n",
       "      <td>0.000</td>\n",
       "      <td>0.866988</td>\n",
       "      <td>0.387476</td>\n",
       "      <td>-1.000</td>\n",
       "      <td>0.196799</td>\n",
       "      <td>0.028725</td>\n",
       "      <td>2</td>\n",
       "      <td>0.248399</td>\n",
       "      <td>-16.331</td>\n",
       "      <td>1</td>\n",
       "      <td>1</td>\n",
       "      <td>0.045251</td>\n",
       "      <td>2653</td>\n",
       "      <td>0</td>\n",
       "      <td>0.624518</td>\n",
       "      <td>0</td>\n",
       "    </tr>\n",
       "    <tr>\n",
       "      <th>14471</th>\n",
       "      <td>35.082</td>\n",
       "      <td>0.905281</td>\n",
       "      <td>0.566619</td>\n",
       "      <td>581799.061</td>\n",
       "      <td>0.543673</td>\n",
       "      <td>0.209238</td>\n",
       "      <td>6</td>\n",
       "      <td>0.416611</td>\n",
       "      <td>-10.246</td>\n",
       "      <td>1</td>\n",
       "      <td>1</td>\n",
       "      <td>0.040625</td>\n",
       "      <td>2630</td>\n",
       "      <td>0</td>\n",
       "      <td>0.869294</td>\n",
       "      <td>4</td>\n",
       "    </tr>\n",
       "    <tr>\n",
       "      <th>14472</th>\n",
       "      <td>59.693</td>\n",
       "      <td>0.113408</td>\n",
       "      <td>0.644554</td>\n",
       "      <td>151226.592</td>\n",
       "      <td>0.912201</td>\n",
       "      <td>0.000089</td>\n",
       "      <td>8</td>\n",
       "      <td>0.166336</td>\n",
       "      <td>-7.257</td>\n",
       "      <td>0</td>\n",
       "      <td>2</td>\n",
       "      <td>0.060308</td>\n",
       "      <td>1795</td>\n",
       "      <td>1</td>\n",
       "      <td>0.402700</td>\n",
       "      <td>6</td>\n",
       "    </tr>\n",
       "    <tr>\n",
       "      <th>14473</th>\n",
       "      <td>56.518</td>\n",
       "      <td>0.847136</td>\n",
       "      <td>0.502160</td>\n",
       "      <td>190735.191</td>\n",
       "      <td>0.470057</td>\n",
       "      <td>0.502878</td>\n",
       "      <td>8</td>\n",
       "      <td>0.143114</td>\n",
       "      <td>-11.043</td>\n",
       "      <td>1</td>\n",
       "      <td>1</td>\n",
       "      <td>0.029906</td>\n",
       "      <td>10620</td>\n",
       "      <td>2</td>\n",
       "      <td>0.358777</td>\n",
       "      <td>0</td>\n",
       "    </tr>\n",
       "  </tbody>\n",
       "</table>\n",
       "<p>14474 rows × 16 columns</p>\n",
       "</div>"
      ],
      "text/plain": [
       "       popularity  acousticness  danceability  duration_ms    energy  \\\n",
       "0          49.178      0.970522      0.580508   214625.776  0.192107   \n",
       "1          59.827      1.009380      0.687542   216232.195  0.265942   \n",
       "2          89.023      0.020041      0.967948   273314.723  0.857411   \n",
       "3          55.762      0.010284      0.616287   189189.605  0.970513   \n",
       "4          45.095      0.858769      0.280645   410136.987  0.114732   \n",
       "...           ...           ...           ...          ...       ...   \n",
       "14469      28.318      1.054190      0.136130   188388.500  0.042151   \n",
       "14470       0.000      0.866988      0.387476       -1.000  0.196799   \n",
       "14471      35.082      0.905281      0.566619   581799.061  0.543673   \n",
       "14472      59.693      0.113408      0.644554   151226.592  0.912201   \n",
       "14473      56.518      0.847136      0.502160   190735.191  0.470057   \n",
       "\n",
       "       instrumentalness  key  liveness  loudness  voice_gender  mode  \\\n",
       "0              0.000000    7  0.147134   -14.140             1     1   \n",
       "1              0.000030    0  0.174655   -13.716             2     0   \n",
       "2              0.000000    5  0.042030    -4.995             1     1   \n",
       "3              0.000220    5  0.124637    -4.262             0     1   \n",
       "4              0.002753    9  0.134782   -26.922             1     2   \n",
       "...                 ...  ...       ...       ...           ...   ...   \n",
       "14469          1.024128   10  0.135912   -29.236             1     1   \n",
       "14470          0.028725    2  0.248399   -16.331             1     1   \n",
       "14471          0.209238    6  0.416611   -10.246             1     1   \n",
       "14472          0.000089    8  0.166336    -7.257             0     2   \n",
       "14473          0.502878    8  0.143114   -11.043             1     1   \n",
       "\n",
       "       speechiness  tempo  musician_category   valence  music_genre  \n",
       "0         0.046404   4955                  0  0.598965            4  \n",
       "1         0.039949  11415                  0  0.357194            4  \n",
       "2         0.119917    582                  0  0.635525            5  \n",
       "3         0.167493  11415                  1  0.983750            6  \n",
       "4         0.039139   1374                  0  0.074412            0  \n",
       "...            ...    ...                ...       ...          ...  \n",
       "14469     0.057739   7765                  2  0.040686            0  \n",
       "14470     0.045251   2653                  0  0.624518            0  \n",
       "14471     0.040625   2630                  0  0.869294            4  \n",
       "14472     0.060308   1795                  1  0.402700            6  \n",
       "14473     0.029906  10620                  2  0.358777            0  \n",
       "\n",
       "[14474 rows x 16 columns]"
      ]
     },
     "execution_count": 85,
     "metadata": {},
     "output_type": "execute_result"
    }
   ],
   "source": [
    "df_cleaned"
   ]
  },
  {
   "cell_type": "code",
   "execution_count": 87,
   "id": "05bd0d40",
   "metadata": {},
   "outputs": [],
   "source": [
    "## To spilt into two variables\n",
    "x=df_cleaned.drop(['music_genre'],axis=1)\n",
    "y=df_cleaned['music_genre']"
   ]
  },
  {
   "cell_type": "code",
   "execution_count": 88,
   "id": "7986c2b8",
   "metadata": {},
   "outputs": [],
   "source": [
    "## To do minmax scaler\n",
    "from sklearn.preprocessing import MinMaxScaler\n",
    "min_max=MinMaxScaler(feature_range=(0,1))\n",
    "x=min_max.fit_transform(x)"
   ]
  },
  {
   "cell_type": "code",
   "execution_count": 89,
   "id": "0799006d",
   "metadata": {},
   "outputs": [
    {
     "data": {
      "text/plain": [
       "array([[0.48435007, 0.88679908, 0.51568183, ..., 0.43407797, 0.        ,\n",
       "        0.55615685],\n",
       "       [0.58923119, 0.92230469, 0.62253676, ..., 1.        , 0.        ,\n",
       "        0.33166502],\n",
       "       [0.87678019, 0.01831102, 0.90247448, ..., 0.05098555, 0.        ,\n",
       "        0.59010436],\n",
       "       ...,\n",
       "       [0.34551973, 0.82718556, 0.5018159 , ..., 0.2303986 , 0.        ,\n",
       "        0.80716601],\n",
       "       [0.58791144, 0.1036232 , 0.57962066, ..., 0.15724923, 0.5       ,\n",
       "        0.37391895],\n",
       "       [0.55664113, 0.77405676, 0.43746518, ..., 0.9303548 , 1.        ,\n",
       "        0.3331356 ]])"
      ]
     },
     "execution_count": 89,
     "metadata": {},
     "output_type": "execute_result"
    }
   ],
   "source": [
    "x"
   ]
  },
  {
   "cell_type": "code",
   "execution_count": 90,
   "id": "50f74be8",
   "metadata": {},
   "outputs": [],
   "source": [
    "## To change array to Dataframe\n",
    "x=pd.DataFrame(x)"
   ]
  },
  {
   "cell_type": "code",
   "execution_count": 91,
   "id": "ef4f12cb",
   "metadata": {},
   "outputs": [
    {
     "name": "stderr",
     "output_type": "stream",
     "text": [
      "C:\\ProgramData\\anaconda3\\lib\\site-packages\\sklearn\\linear_model\\_logistic.py:458: ConvergenceWarning: lbfgs failed to converge (status=1):\n",
      "STOP: TOTAL NO. of ITERATIONS REACHED LIMIT.\n",
      "\n",
      "Increase the number of iterations (max_iter) or scale the data as shown in:\n",
      "    https://scikit-learn.org/stable/modules/preprocessing.html\n",
      "Please also refer to the documentation for alternative solver options:\n",
      "    https://scikit-learn.org/stable/modules/linear_model.html#logistic-regression\n",
      "  n_iter_i = _check_optimize_result(\n"
     ]
    }
   ],
   "source": [
    "## To split data in training and test sets and to apply logistic regression\n",
    "from sklearn.model_selection import train_test_split\n",
    "x_train,x_test,y_train,y_test=train_test_split(x,y,test_size=0.2,random_state=42)\n",
    "from sklearn.linear_model import LogisticRegression\n",
    "Ir=LogisticRegression()\n",
    "model=Ir.fit(x_train,y_train)\n",
    "y_pred=model.predict(x_test)"
   ]
  },
  {
   "cell_type": "code",
   "execution_count": 92,
   "id": "23d08f54",
   "metadata": {},
   "outputs": [
    {
     "name": "stdout",
     "output_type": "stream",
     "text": [
      "Logistic Regression:\n",
      "Accuracy: 0.7326424870466322\n",
      "              precision    recall  f1-score   support\n",
      "\n",
      "           0       0.86      0.88      0.87       715\n",
      "           1       0.59      0.18      0.28       130\n",
      "           2       0.53      0.31      0.39       110\n",
      "           3       0.00      0.00      0.00        77\n",
      "           4       0.67      0.66      0.67       552\n",
      "           5       0.72      0.76      0.74       558\n",
      "           6       0.70      0.86      0.77       753\n",
      "\n",
      "    accuracy                           0.73      2895\n",
      "   macro avg       0.58      0.52      0.53      2895\n",
      "weighted avg       0.71      0.73      0.71      2895\n",
      "\n"
     ]
    },
    {
     "name": "stderr",
     "output_type": "stream",
     "text": [
      "C:\\ProgramData\\anaconda3\\lib\\site-packages\\sklearn\\metrics\\_classification.py:1344: UndefinedMetricWarning: Precision and F-score are ill-defined and being set to 0.0 in labels with no predicted samples. Use `zero_division` parameter to control this behavior.\n",
      "  _warn_prf(average, modifier, msg_start, len(result))\n",
      "C:\\ProgramData\\anaconda3\\lib\\site-packages\\sklearn\\metrics\\_classification.py:1344: UndefinedMetricWarning: Precision and F-score are ill-defined and being set to 0.0 in labels with no predicted samples. Use `zero_division` parameter to control this behavior.\n",
      "  _warn_prf(average, modifier, msg_start, len(result))\n",
      "C:\\ProgramData\\anaconda3\\lib\\site-packages\\sklearn\\metrics\\_classification.py:1344: UndefinedMetricWarning: Precision and F-score are ill-defined and being set to 0.0 in labels with no predicted samples. Use `zero_division` parameter to control this behavior.\n",
      "  _warn_prf(average, modifier, msg_start, len(result))\n"
     ]
    }
   ],
   "source": [
    "# Evaluate the model\n",
    "from sklearn.metrics import accuracy_score, classification_report\n",
    "print(\"Logistic Regression:\")\n",
    "print(\"Accuracy:\", accuracy_score(y_test,y_pred))\n",
    "print(classification_report(y_test,y_pred))"
   ]
  },
  {
   "cell_type": "code",
   "execution_count": 93,
   "id": "4f8c11cd",
   "metadata": {},
   "outputs": [
    {
     "data": {
      "text/html": [
       "<style>#sk-container-id-1 {color: black;background-color: white;}#sk-container-id-1 pre{padding: 0;}#sk-container-id-1 div.sk-toggleable {background-color: white;}#sk-container-id-1 label.sk-toggleable__label {cursor: pointer;display: block;width: 100%;margin-bottom: 0;padding: 0.3em;box-sizing: border-box;text-align: center;}#sk-container-id-1 label.sk-toggleable__label-arrow:before {content: \"▸\";float: left;margin-right: 0.25em;color: #696969;}#sk-container-id-1 label.sk-toggleable__label-arrow:hover:before {color: black;}#sk-container-id-1 div.sk-estimator:hover label.sk-toggleable__label-arrow:before {color: black;}#sk-container-id-1 div.sk-toggleable__content {max-height: 0;max-width: 0;overflow: hidden;text-align: left;background-color: #f0f8ff;}#sk-container-id-1 div.sk-toggleable__content pre {margin: 0.2em;color: black;border-radius: 0.25em;background-color: #f0f8ff;}#sk-container-id-1 input.sk-toggleable__control:checked~div.sk-toggleable__content {max-height: 200px;max-width: 100%;overflow: auto;}#sk-container-id-1 input.sk-toggleable__control:checked~label.sk-toggleable__label-arrow:before {content: \"▾\";}#sk-container-id-1 div.sk-estimator input.sk-toggleable__control:checked~label.sk-toggleable__label {background-color: #d4ebff;}#sk-container-id-1 div.sk-label input.sk-toggleable__control:checked~label.sk-toggleable__label {background-color: #d4ebff;}#sk-container-id-1 input.sk-hidden--visually {border: 0;clip: rect(1px 1px 1px 1px);clip: rect(1px, 1px, 1px, 1px);height: 1px;margin: -1px;overflow: hidden;padding: 0;position: absolute;width: 1px;}#sk-container-id-1 div.sk-estimator {font-family: monospace;background-color: #f0f8ff;border: 1px dotted black;border-radius: 0.25em;box-sizing: border-box;margin-bottom: 0.5em;}#sk-container-id-1 div.sk-estimator:hover {background-color: #d4ebff;}#sk-container-id-1 div.sk-parallel-item::after {content: \"\";width: 100%;border-bottom: 1px solid gray;flex-grow: 1;}#sk-container-id-1 div.sk-label:hover label.sk-toggleable__label {background-color: #d4ebff;}#sk-container-id-1 div.sk-serial::before {content: \"\";position: absolute;border-left: 1px solid gray;box-sizing: border-box;top: 0;bottom: 0;left: 50%;z-index: 0;}#sk-container-id-1 div.sk-serial {display: flex;flex-direction: column;align-items: center;background-color: white;padding-right: 0.2em;padding-left: 0.2em;position: relative;}#sk-container-id-1 div.sk-item {position: relative;z-index: 1;}#sk-container-id-1 div.sk-parallel {display: flex;align-items: stretch;justify-content: center;background-color: white;position: relative;}#sk-container-id-1 div.sk-item::before, #sk-container-id-1 div.sk-parallel-item::before {content: \"\";position: absolute;border-left: 1px solid gray;box-sizing: border-box;top: 0;bottom: 0;left: 50%;z-index: -1;}#sk-container-id-1 div.sk-parallel-item {display: flex;flex-direction: column;z-index: 1;position: relative;background-color: white;}#sk-container-id-1 div.sk-parallel-item:first-child::after {align-self: flex-end;width: 50%;}#sk-container-id-1 div.sk-parallel-item:last-child::after {align-self: flex-start;width: 50%;}#sk-container-id-1 div.sk-parallel-item:only-child::after {width: 0;}#sk-container-id-1 div.sk-dashed-wrapped {border: 1px dashed gray;margin: 0 0.4em 0.5em 0.4em;box-sizing: border-box;padding-bottom: 0.4em;background-color: white;}#sk-container-id-1 div.sk-label label {font-family: monospace;font-weight: bold;display: inline-block;line-height: 1.2em;}#sk-container-id-1 div.sk-label-container {text-align: center;}#sk-container-id-1 div.sk-container {/* jupyter's `normalize.less` sets `[hidden] { display: none; }` but bootstrap.min.css set `[hidden] { display: none !important; }` so we also need the `!important` here to be able to override the default hidden behavior on the sphinx rendered scikit-learn.org. See: https://github.com/scikit-learn/scikit-learn/issues/21755 */display: inline-block !important;position: relative;}#sk-container-id-1 div.sk-text-repr-fallback {display: none;}</style><div id=\"sk-container-id-1\" class=\"sk-top-container\"><div class=\"sk-text-repr-fallback\"><pre>DecisionTreeClassifier(random_state=42)</pre><b>In a Jupyter environment, please rerun this cell to show the HTML representation or trust the notebook. <br />On GitHub, the HTML representation is unable to render, please try loading this page with nbviewer.org.</b></div><div class=\"sk-container\" hidden><div class=\"sk-item\"><div class=\"sk-estimator sk-toggleable\"><input class=\"sk-toggleable__control sk-hidden--visually\" id=\"sk-estimator-id-1\" type=\"checkbox\" checked><label for=\"sk-estimator-id-1\" class=\"sk-toggleable__label sk-toggleable__label-arrow\">DecisionTreeClassifier</label><div class=\"sk-toggleable__content\"><pre>DecisionTreeClassifier(random_state=42)</pre></div></div></div></div></div>"
      ],
      "text/plain": [
       "DecisionTreeClassifier(random_state=42)"
      ]
     },
     "execution_count": 93,
     "metadata": {},
     "output_type": "execute_result"
    }
   ],
   "source": [
    "from sklearn.tree import DecisionTreeClassifier\n",
    "# Train the Decision Tree model\n",
    "dt_model = DecisionTreeClassifier(random_state=42)\n",
    "dt_model.fit(x_train, y_train)"
   ]
  },
  {
   "cell_type": "code",
   "execution_count": 94,
   "id": "7f6cf2c3",
   "metadata": {},
   "outputs": [],
   "source": [
    "# Make predictions on the test set\n",
    "dt_y_pred = dt_model.predict(x_test)"
   ]
  },
  {
   "cell_type": "code",
   "execution_count": 95,
   "id": "2b8bbc98",
   "metadata": {},
   "outputs": [
    {
     "name": "stdout",
     "output_type": "stream",
     "text": [
      "Decision Tree:\n",
      "Accuracy: 0.6597582037996546\n",
      "              precision    recall  f1-score   support\n",
      "\n",
      "           0       0.85      0.84      0.85       715\n",
      "           1       0.37      0.39      0.38       130\n",
      "           2       0.34      0.33      0.33       110\n",
      "           3       0.11      0.12      0.12        77\n",
      "           4       0.61      0.59      0.60       552\n",
      "           5       0.62      0.66      0.64       558\n",
      "           6       0.70      0.68      0.69       753\n",
      "\n",
      "    accuracy                           0.66      2895\n",
      "   macro avg       0.52      0.52      0.52      2895\n",
      "weighted avg       0.66      0.66      0.66      2895\n",
      "\n"
     ]
    }
   ],
   "source": [
    "# Evaluate the model\n",
    "print(\"Decision Tree:\")\n",
    "print(\"Accuracy:\", accuracy_score(y_test, dt_y_pred))\n",
    "print(classification_report(y_test, dt_y_pred))"
   ]
  },
  {
   "cell_type": "code",
   "execution_count": 96,
   "id": "ab4926ce",
   "metadata": {},
   "outputs": [
    {
     "data": {
      "text/html": [
       "<style>#sk-container-id-2 {color: black;background-color: white;}#sk-container-id-2 pre{padding: 0;}#sk-container-id-2 div.sk-toggleable {background-color: white;}#sk-container-id-2 label.sk-toggleable__label {cursor: pointer;display: block;width: 100%;margin-bottom: 0;padding: 0.3em;box-sizing: border-box;text-align: center;}#sk-container-id-2 label.sk-toggleable__label-arrow:before {content: \"▸\";float: left;margin-right: 0.25em;color: #696969;}#sk-container-id-2 label.sk-toggleable__label-arrow:hover:before {color: black;}#sk-container-id-2 div.sk-estimator:hover label.sk-toggleable__label-arrow:before {color: black;}#sk-container-id-2 div.sk-toggleable__content {max-height: 0;max-width: 0;overflow: hidden;text-align: left;background-color: #f0f8ff;}#sk-container-id-2 div.sk-toggleable__content pre {margin: 0.2em;color: black;border-radius: 0.25em;background-color: #f0f8ff;}#sk-container-id-2 input.sk-toggleable__control:checked~div.sk-toggleable__content {max-height: 200px;max-width: 100%;overflow: auto;}#sk-container-id-2 input.sk-toggleable__control:checked~label.sk-toggleable__label-arrow:before {content: \"▾\";}#sk-container-id-2 div.sk-estimator input.sk-toggleable__control:checked~label.sk-toggleable__label {background-color: #d4ebff;}#sk-container-id-2 div.sk-label input.sk-toggleable__control:checked~label.sk-toggleable__label {background-color: #d4ebff;}#sk-container-id-2 input.sk-hidden--visually {border: 0;clip: rect(1px 1px 1px 1px);clip: rect(1px, 1px, 1px, 1px);height: 1px;margin: -1px;overflow: hidden;padding: 0;position: absolute;width: 1px;}#sk-container-id-2 div.sk-estimator {font-family: monospace;background-color: #f0f8ff;border: 1px dotted black;border-radius: 0.25em;box-sizing: border-box;margin-bottom: 0.5em;}#sk-container-id-2 div.sk-estimator:hover {background-color: #d4ebff;}#sk-container-id-2 div.sk-parallel-item::after {content: \"\";width: 100%;border-bottom: 1px solid gray;flex-grow: 1;}#sk-container-id-2 div.sk-label:hover label.sk-toggleable__label {background-color: #d4ebff;}#sk-container-id-2 div.sk-serial::before {content: \"\";position: absolute;border-left: 1px solid gray;box-sizing: border-box;top: 0;bottom: 0;left: 50%;z-index: 0;}#sk-container-id-2 div.sk-serial {display: flex;flex-direction: column;align-items: center;background-color: white;padding-right: 0.2em;padding-left: 0.2em;position: relative;}#sk-container-id-2 div.sk-item {position: relative;z-index: 1;}#sk-container-id-2 div.sk-parallel {display: flex;align-items: stretch;justify-content: center;background-color: white;position: relative;}#sk-container-id-2 div.sk-item::before, #sk-container-id-2 div.sk-parallel-item::before {content: \"\";position: absolute;border-left: 1px solid gray;box-sizing: border-box;top: 0;bottom: 0;left: 50%;z-index: -1;}#sk-container-id-2 div.sk-parallel-item {display: flex;flex-direction: column;z-index: 1;position: relative;background-color: white;}#sk-container-id-2 div.sk-parallel-item:first-child::after {align-self: flex-end;width: 50%;}#sk-container-id-2 div.sk-parallel-item:last-child::after {align-self: flex-start;width: 50%;}#sk-container-id-2 div.sk-parallel-item:only-child::after {width: 0;}#sk-container-id-2 div.sk-dashed-wrapped {border: 1px dashed gray;margin: 0 0.4em 0.5em 0.4em;box-sizing: border-box;padding-bottom: 0.4em;background-color: white;}#sk-container-id-2 div.sk-label label {font-family: monospace;font-weight: bold;display: inline-block;line-height: 1.2em;}#sk-container-id-2 div.sk-label-container {text-align: center;}#sk-container-id-2 div.sk-container {/* jupyter's `normalize.less` sets `[hidden] { display: none; }` but bootstrap.min.css set `[hidden] { display: none !important; }` so we also need the `!important` here to be able to override the default hidden behavior on the sphinx rendered scikit-learn.org. See: https://github.com/scikit-learn/scikit-learn/issues/21755 */display: inline-block !important;position: relative;}#sk-container-id-2 div.sk-text-repr-fallback {display: none;}</style><div id=\"sk-container-id-2\" class=\"sk-top-container\"><div class=\"sk-text-repr-fallback\"><pre>RandomForestClassifier(random_state=42)</pre><b>In a Jupyter environment, please rerun this cell to show the HTML representation or trust the notebook. <br />On GitHub, the HTML representation is unable to render, please try loading this page with nbviewer.org.</b></div><div class=\"sk-container\" hidden><div class=\"sk-item\"><div class=\"sk-estimator sk-toggleable\"><input class=\"sk-toggleable__control sk-hidden--visually\" id=\"sk-estimator-id-2\" type=\"checkbox\" checked><label for=\"sk-estimator-id-2\" class=\"sk-toggleable__label sk-toggleable__label-arrow\">RandomForestClassifier</label><div class=\"sk-toggleable__content\"><pre>RandomForestClassifier(random_state=42)</pre></div></div></div></div></div>"
      ],
      "text/plain": [
       "RandomForestClassifier(random_state=42)"
      ]
     },
     "execution_count": 96,
     "metadata": {},
     "output_type": "execute_result"
    }
   ],
   "source": [
    "from sklearn.ensemble import RandomForestClassifier\n",
    "# Train the Random Forest model\n",
    "rf_model = RandomForestClassifier(random_state=42)\n",
    "rf_model.fit(x_train, y_train)"
   ]
  },
  {
   "cell_type": "code",
   "execution_count": 97,
   "id": "a4896b7e",
   "metadata": {},
   "outputs": [],
   "source": [
    "# Make predictions on the test set\n",
    "rf_y_pred = rf_model.predict(x_test)"
   ]
  },
  {
   "cell_type": "code",
   "execution_count": 98,
   "id": "18df4c80",
   "metadata": {},
   "outputs": [
    {
     "name": "stdout",
     "output_type": "stream",
     "text": [
      "Random Forest:\n",
      "Accuracy: 0.7758203799654577\n",
      "              precision    recall  f1-score   support\n",
      "\n",
      "           0       0.91      0.91      0.91       715\n",
      "           1       0.70      0.42      0.53       130\n",
      "           2       0.72      0.35      0.48       110\n",
      "           3       0.00      0.00      0.00        77\n",
      "           4       0.74      0.74      0.74       552\n",
      "           5       0.75      0.79      0.77       558\n",
      "           6       0.73      0.86      0.79       753\n",
      "\n",
      "    accuracy                           0.78      2895\n",
      "   macro avg       0.65      0.58      0.60      2895\n",
      "weighted avg       0.76      0.78      0.76      2895\n",
      "\n"
     ]
    }
   ],
   "source": [
    "# Evaluate the model\n",
    "print(\"Random Forest:\")\n",
    "print(\"Accuracy:\", accuracy_score(y_test, rf_y_pred))\n",
    "print(classification_report(y_test, rf_y_pred))"
   ]
  },
  {
   "cell_type": "code",
   "execution_count": 99,
   "id": "22dc2a8a",
   "metadata": {},
   "outputs": [],
   "source": [
    "from sklearn.neighbors import KNeighborsClassifier\n",
    "# create an empty list.\n",
    "metric_k=[]\n",
    "neighbors=np.arange(3,15)"
   ]
  },
  {
   "cell_type": "code",
   "execution_count": 100,
   "id": "08579d1a",
   "metadata": {},
   "outputs": [],
   "source": [
    "# Train the KNN model\n",
    "for k in neighbors:\n",
    "  knn_model=KNeighborsClassifier(n_neighbors=k,metric='euclidean')\n",
    "  knn_model.fit(x_train,y_train)\n",
    "  # Make predictions on the test set\n",
    "  knn_y_pred=knn_model.predict(x_test)\n",
    "  acc=accuracy_score(y_test,knn_y_pred)\n",
    "  metric_k.append(acc)"
   ]
  },
  {
   "cell_type": "code",
   "execution_count": 101,
   "id": "95ecea1a",
   "metadata": {},
   "outputs": [
    {
     "data": {
      "image/png": "[encoded data removed]",
      "text/plain": [
       "<Figure size 640x480 with 1 Axes>"
      ]
     },
     "metadata": {},
     "output_type": "display_data"
    }
   ],
   "source": [
    "# Lets plot a graph to find highest accuracy score of given k\n",
    "plt.plot(neighbors,metric_k,'o-')\n",
    "plt.xlabel('k')\n",
    "plt.ylabel('Accuracy')\n",
    "plt.grid()"
   ]
  },
  {
   "cell_type": "code",
   "execution_count": 102,
   "id": "3edd0c14",
   "metadata": {},
   "outputs": [
    {
     "data": {
      "text/html": [
       "<style>#sk-container-id-3 {color: black;background-color: white;}#sk-container-id-3 pre{padding: 0;}#sk-container-id-3 div.sk-toggleable {background-color: white;}#sk-container-id-3 label.sk-toggleable__label {cursor: pointer;display: block;width: 100%;margin-bottom: 0;padding: 0.3em;box-sizing: border-box;text-align: center;}#sk-container-id-3 label.sk-toggleable__label-arrow:before {content: \"▸\";float: left;margin-right: 0.25em;color: #696969;}#sk-container-id-3 label.sk-toggleable__label-arrow:hover:before {color: black;}#sk-container-id-3 div.sk-estimator:hover label.sk-toggleable__label-arrow:before {color: black;}#sk-container-id-3 div.sk-toggleable__content {max-height: 0;max-width: 0;overflow: hidden;text-align: left;background-color: #f0f8ff;}#sk-container-id-3 div.sk-toggleable__content pre {margin: 0.2em;color: black;border-radius: 0.25em;background-color: #f0f8ff;}#sk-container-id-3 input.sk-toggleable__control:checked~div.sk-toggleable__content {max-height: 200px;max-width: 100%;overflow: auto;}#sk-container-id-3 input.sk-toggleable__control:checked~label.sk-toggleable__label-arrow:before {content: \"▾\";}#sk-container-id-3 div.sk-estimator input.sk-toggleable__control:checked~label.sk-toggleable__label {background-color: #d4ebff;}#sk-container-id-3 div.sk-label input.sk-toggleable__control:checked~label.sk-toggleable__label {background-color: #d4ebff;}#sk-container-id-3 input.sk-hidden--visually {border: 0;clip: rect(1px 1px 1px 1px);clip: rect(1px, 1px, 1px, 1px);height: 1px;margin: -1px;overflow: hidden;padding: 0;position: absolute;width: 1px;}#sk-container-id-3 div.sk-estimator {font-family: monospace;background-color: #f0f8ff;border: 1px dotted black;border-radius: 0.25em;box-sizing: border-box;margin-bottom: 0.5em;}#sk-container-id-3 div.sk-estimator:hover {background-color: #d4ebff;}#sk-container-id-3 div.sk-parallel-item::after {content: \"\";width: 100%;border-bottom: 1px solid gray;flex-grow: 1;}#sk-container-id-3 div.sk-label:hover label.sk-toggleable__label {background-color: #d4ebff;}#sk-container-id-3 div.sk-serial::before {content: \"\";position: absolute;border-left: 1px solid gray;box-sizing: border-box;top: 0;bottom: 0;left: 50%;z-index: 0;}#sk-container-id-3 div.sk-serial {display: flex;flex-direction: column;align-items: center;background-color: white;padding-right: 0.2em;padding-left: 0.2em;position: relative;}#sk-container-id-3 div.sk-item {position: relative;z-index: 1;}#sk-container-id-3 div.sk-parallel {display: flex;align-items: stretch;justify-content: center;background-color: white;position: relative;}#sk-container-id-3 div.sk-item::before, #sk-container-id-3 div.sk-parallel-item::before {content: \"\";position: absolute;border-left: 1px solid gray;box-sizing: border-box;top: 0;bottom: 0;left: 50%;z-index: -1;}#sk-container-id-3 div.sk-parallel-item {display: flex;flex-direction: column;z-index: 1;position: relative;background-color: white;}#sk-container-id-3 div.sk-parallel-item:first-child::after {align-self: flex-end;width: 50%;}#sk-container-id-3 div.sk-parallel-item:last-child::after {align-self: flex-start;width: 50%;}#sk-container-id-3 div.sk-parallel-item:only-child::after {width: 0;}#sk-container-id-3 div.sk-dashed-wrapped {border: 1px dashed gray;margin: 0 0.4em 0.5em 0.4em;box-sizing: border-box;padding-bottom: 0.4em;background-color: white;}#sk-container-id-3 div.sk-label label {font-family: monospace;font-weight: bold;display: inline-block;line-height: 1.2em;}#sk-container-id-3 div.sk-label-container {text-align: center;}#sk-container-id-3 div.sk-container {/* jupyter's `normalize.less` sets `[hidden] { display: none; }` but bootstrap.min.css set `[hidden] { display: none !important; }` so we also need the `!important` here to be able to override the default hidden behavior on the sphinx rendered scikit-learn.org. See: https://github.com/scikit-learn/scikit-learn/issues/21755 */display: inline-block !important;position: relative;}#sk-container-id-3 div.sk-text-repr-fallback {display: none;}</style><div id=\"sk-container-id-3\" class=\"sk-top-container\"><div class=\"sk-text-repr-fallback\"><pre>KNeighborsClassifier(metric=&#x27;euclidean&#x27;, n_neighbors=6)</pre><b>In a Jupyter environment, please rerun this cell to show the HTML representation or trust the notebook. <br />On GitHub, the HTML representation is unable to render, please try loading this page with nbviewer.org.</b></div><div class=\"sk-container\" hidden><div class=\"sk-item\"><div class=\"sk-estimator sk-toggleable\"><input class=\"sk-toggleable__control sk-hidden--visually\" id=\"sk-estimator-id-3\" type=\"checkbox\" checked><label for=\"sk-estimator-id-3\" class=\"sk-toggleable__label sk-toggleable__label-arrow\">KNeighborsClassifier</label><div class=\"sk-toggleable__content\"><pre>KNeighborsClassifier(metric=&#x27;euclidean&#x27;, n_neighbors=6)</pre></div></div></div></div></div>"
      ],
      "text/plain": [
       "KNeighborsClassifier(metric='euclidean', n_neighbors=6)"
      ]
     },
     "execution_count": 102,
     "metadata": {},
     "output_type": "execute_result"
    }
   ],
   "source": [
    "# Lets create knn model for 6 neighbors\n",
    "knn_model=KNeighborsClassifier(n_neighbors=6,metric='euclidean')\n",
    "knn_model.fit(x_train,y_train)"
   ]
  },
  {
   "cell_type": "code",
   "execution_count": 103,
   "id": "8755ed58",
   "metadata": {},
   "outputs": [],
   "source": [
    "# Make predictions on the test set\n",
    "knn_y_pred=knn_model.predict(x_test)"
   ]
  },
  {
   "cell_type": "code",
   "execution_count": 104,
   "id": "a009d08b",
   "metadata": {},
   "outputs": [
    {
     "name": "stdout",
     "output_type": "stream",
     "text": [
      "KNN Model:\n",
      "Accuracy: 0.6376511226252158\n",
      "              precision    recall  f1-score   support\n",
      "\n",
      "           0       0.84      0.86      0.85       715\n",
      "           1       0.24      0.23      0.23       130\n",
      "           2       0.42      0.16      0.24       110\n",
      "           3       0.07      0.03      0.04        77\n",
      "           4       0.62      0.51      0.56       552\n",
      "           5       0.59      0.67      0.63       558\n",
      "           6       0.59      0.69      0.64       753\n",
      "\n",
      "    accuracy                           0.64      2895\n",
      "   macro avg       0.48      0.45      0.46      2895\n",
      "weighted avg       0.62      0.64      0.63      2895\n",
      "\n"
     ]
    }
   ],
   "source": [
    "# Evaluate the model\n",
    "print(\"KNN Model:\")\n",
    "print(\"Accuracy:\", accuracy_score(y_test, knn_y_pred))\n",
    "print(classification_report(y_test, knn_y_pred))"
   ]
  },
  {
   "cell_type": "code",
   "execution_count": 105,
   "id": "0eeea2db",
   "metadata": {},
   "outputs": [],
   "source": [
    "from sklearn.model_selection import RandomizedSearchCV"
   ]
  },
  {
   "cell_type": "code",
   "execution_count": 106,
   "id": "e1f6b733",
   "metadata": {},
   "outputs": [],
   "source": [
    "param_dist = {\n",
    "    'n_neighbors': range(3, 15),\n",
    "    'weights': ['uniform', 'distance'],\n",
    "    'p': [1, 2]\n",
    "}"
   ]
  },
  {
   "cell_type": "code",
   "execution_count": 107,
   "id": "4dfcd352",
   "metadata": {},
   "outputs": [
    {
     "data": {
      "text/html": [
       "<style>#sk-container-id-4 {color: black;background-color: white;}#sk-container-id-4 pre{padding: 0;}#sk-container-id-4 div.sk-toggleable {background-color: white;}#sk-container-id-4 label.sk-toggleable__label {cursor: pointer;display: block;width: 100%;margin-bottom: 0;padding: 0.3em;box-sizing: border-box;text-align: center;}#sk-container-id-4 label.sk-toggleable__label-arrow:before {content: \"▸\";float: left;margin-right: 0.25em;color: #696969;}#sk-container-id-4 label.sk-toggleable__label-arrow:hover:before {color: black;}#sk-container-id-4 div.sk-estimator:hover label.sk-toggleable__label-arrow:before {color: black;}#sk-container-id-4 div.sk-toggleable__content {max-height: 0;max-width: 0;overflow: hidden;text-align: left;background-color: #f0f8ff;}#sk-container-id-4 div.sk-toggleable__content pre {margin: 0.2em;color: black;border-radius: 0.25em;background-color: #f0f8ff;}#sk-container-id-4 input.sk-toggleable__control:checked~div.sk-toggleable__content {max-height: 200px;max-width: 100%;overflow: auto;}#sk-container-id-4 input.sk-toggleable__control:checked~label.sk-toggleable__label-arrow:before {content: \"▾\";}#sk-container-id-4 div.sk-estimator input.sk-toggleable__control:checked~label.sk-toggleable__label {background-color: #d4ebff;}#sk-container-id-4 div.sk-label input.sk-toggleable__control:checked~label.sk-toggleable__label {background-color: #d4ebff;}#sk-container-id-4 input.sk-hidden--visually {border: 0;clip: rect(1px 1px 1px 1px);clip: rect(1px, 1px, 1px, 1px);height: 1px;margin: -1px;overflow: hidden;padding: 0;position: absolute;width: 1px;}#sk-container-id-4 div.sk-estimator {font-family: monospace;background-color: #f0f8ff;border: 1px dotted black;border-radius: 0.25em;box-sizing: border-box;margin-bottom: 0.5em;}#sk-container-id-4 div.sk-estimator:hover {background-color: #d4ebff;}#sk-container-id-4 div.sk-parallel-item::after {content: \"\";width: 100%;border-bottom: 1px solid gray;flex-grow: 1;}#sk-container-id-4 div.sk-label:hover label.sk-toggleable__label {background-color: #d4ebff;}#sk-container-id-4 div.sk-serial::before {content: \"\";position: absolute;border-left: 1px solid gray;box-sizing: border-box;top: 0;bottom: 0;left: 50%;z-index: 0;}#sk-container-id-4 div.sk-serial {display: flex;flex-direction: column;align-items: center;background-color: white;padding-right: 0.2em;padding-left: 0.2em;position: relative;}#sk-container-id-4 div.sk-item {position: relative;z-index: 1;}#sk-container-id-4 div.sk-parallel {display: flex;align-items: stretch;justify-content: center;background-color: white;position: relative;}#sk-container-id-4 div.sk-item::before, #sk-container-id-4 div.sk-parallel-item::before {content: \"\";position: absolute;border-left: 1px solid gray;box-sizing: border-box;top: 0;bottom: 0;left: 50%;z-index: -1;}#sk-container-id-4 div.sk-parallel-item {display: flex;flex-direction: column;z-index: 1;position: relative;background-color: white;}#sk-container-id-4 div.sk-parallel-item:first-child::after {align-self: flex-end;width: 50%;}#sk-container-id-4 div.sk-parallel-item:last-child::after {align-self: flex-start;width: 50%;}#sk-container-id-4 div.sk-parallel-item:only-child::after {width: 0;}#sk-container-id-4 div.sk-dashed-wrapped {border: 1px dashed gray;margin: 0 0.4em 0.5em 0.4em;box-sizing: border-box;padding-bottom: 0.4em;background-color: white;}#sk-container-id-4 div.sk-label label {font-family: monospace;font-weight: bold;display: inline-block;line-height: 1.2em;}#sk-container-id-4 div.sk-label-container {text-align: center;}#sk-container-id-4 div.sk-container {/* jupyter's `normalize.less` sets `[hidden] { display: none; }` but bootstrap.min.css set `[hidden] { display: none !important; }` so we also need the `!important` here to be able to override the default hidden behavior on the sphinx rendered scikit-learn.org. See: https://github.com/scikit-learn/scikit-learn/issues/21755 */display: inline-block !important;position: relative;}#sk-container-id-4 div.sk-text-repr-fallback {display: none;}</style><div id=\"sk-container-id-4\" class=\"sk-top-container\"><div class=\"sk-text-repr-fallback\"><pre>RandomizedSearchCV(cv=2,\n",
       "                   estimator=KNeighborsClassifier(metric=&#x27;euclidean&#x27;,\n",
       "                                                  n_neighbors=6),\n",
       "                   param_distributions={&#x27;n_neighbors&#x27;: range(3, 15),\n",
       "                                        &#x27;p&#x27;: [1, 2],\n",
       "                                        &#x27;weights&#x27;: [&#x27;uniform&#x27;, &#x27;distance&#x27;]},\n",
       "                   random_state=42)</pre><b>In a Jupyter environment, please rerun this cell to show the HTML representation or trust the notebook. <br />On GitHub, the HTML representation is unable to render, please try loading this page with nbviewer.org.</b></div><div class=\"sk-container\" hidden><div class=\"sk-item sk-dashed-wrapped\"><div class=\"sk-label-container\"><div class=\"sk-label sk-toggleable\"><input class=\"sk-toggleable__control sk-hidden--visually\" id=\"sk-estimator-id-4\" type=\"checkbox\" ><label for=\"sk-estimator-id-4\" class=\"sk-toggleable__label sk-toggleable__label-arrow\">RandomizedSearchCV</label><div class=\"sk-toggleable__content\"><pre>RandomizedSearchCV(cv=2,\n",
       "                   estimator=KNeighborsClassifier(metric=&#x27;euclidean&#x27;,\n",
       "                                                  n_neighbors=6),\n",
       "                   param_distributions={&#x27;n_neighbors&#x27;: range(3, 15),\n",
       "                                        &#x27;p&#x27;: [1, 2],\n",
       "                                        &#x27;weights&#x27;: [&#x27;uniform&#x27;, &#x27;distance&#x27;]},\n",
       "                   random_state=42)</pre></div></div></div><div class=\"sk-parallel\"><div class=\"sk-parallel-item\"><div class=\"sk-item\"><div class=\"sk-label-container\"><div class=\"sk-label sk-toggleable\"><input class=\"sk-toggleable__control sk-hidden--visually\" id=\"sk-estimator-id-5\" type=\"checkbox\" ><label for=\"sk-estimator-id-5\" class=\"sk-toggleable__label sk-toggleable__label-arrow\">estimator: KNeighborsClassifier</label><div class=\"sk-toggleable__content\"><pre>KNeighborsClassifier(metric=&#x27;euclidean&#x27;, n_neighbors=6)</pre></div></div></div><div class=\"sk-serial\"><div class=\"sk-item\"><div class=\"sk-estimator sk-toggleable\"><input class=\"sk-toggleable__control sk-hidden--visually\" id=\"sk-estimator-id-6\" type=\"checkbox\" ><label for=\"sk-estimator-id-6\" class=\"sk-toggleable__label sk-toggleable__label-arrow\">KNeighborsClassifier</label><div class=\"sk-toggleable__content\"><pre>KNeighborsClassifier(metric=&#x27;euclidean&#x27;, n_neighbors=6)</pre></div></div></div></div></div></div></div></div></div></div>"
      ],
      "text/plain": [
       "RandomizedSearchCV(cv=2,\n",
       "                   estimator=KNeighborsClassifier(metric='euclidean',\n",
       "                                                  n_neighbors=6),\n",
       "                   param_distributions={'n_neighbors': range(3, 15),\n",
       "                                        'p': [1, 2],\n",
       "                                        'weights': ['uniform', 'distance']},\n",
       "                   random_state=42)"
      ]
     },
     "execution_count": 107,
     "metadata": {},
     "output_type": "execute_result"
    }
   ],
   "source": [
    "# perform randomized search cv\n",
    "random_search = RandomizedSearchCV(\n",
    "    knn_model,\n",
    "    param_distributions=param_dist,\n",
    "    n_iter=10,  # Number of parameter settings to sample\n",
    "    cv=2,       # Cross-validation folds\n",
    "    random_state=42\n",
    ")\n",
    "\n",
    "random_search.fit(x_train, y_train)"
   ]
  },
  {
   "cell_type": "code",
   "execution_count": 108,
   "id": "f5c89d56",
   "metadata": {},
   "outputs": [
    {
     "name": "stdout",
     "output_type": "stream",
     "text": [
      "Best parameters: {'weights': 'uniform', 'p': 1, 'n_neighbors': 13}\n"
     ]
    }
   ],
   "source": [
    "# Print best parameters\n",
    "print(\"Best parameters:\", random_search.best_params_)"
   ]
  },
  {
   "cell_type": "code",
   "execution_count": 109,
   "id": "1d43d889",
   "metadata": {},
   "outputs": [],
   "source": [
    "# Make predictions\n",
    "best_knn = random_search.best_estimator_\n",
    "\n",
    "predictions = best_knn.predict(x_test)"
   ]
  },
  {
   "cell_type": "code",
   "execution_count": 110,
   "id": "79ddbcbc",
   "metadata": {},
   "outputs": [
    {
     "name": "stdout",
     "output_type": "stream",
     "text": [
      "Randomsearch Model:\n",
      "Accuracy: 0.6573402417962003\n",
      "              precision    recall  f1-score   support\n",
      "\n",
      "           0       0.86      0.85      0.86       715\n",
      "           1       0.24      0.06      0.10       130\n",
      "           2       0.38      0.09      0.15       110\n",
      "           3       0.00      0.00      0.00        77\n",
      "           4       0.63      0.52      0.57       552\n",
      "           5       0.62      0.69      0.65       558\n",
      "           6       0.57      0.80      0.67       753\n",
      "\n",
      "    accuracy                           0.66      2895\n",
      "   macro avg       0.47      0.43      0.43      2895\n",
      "weighted avg       0.63      0.66      0.63      2895\n",
      "\n"
     ]
    },
    {
     "name": "stderr",
     "output_type": "stream",
     "text": [
      "C:\\ProgramData\\anaconda3\\lib\\site-packages\\sklearn\\metrics\\_classification.py:1344: UndefinedMetricWarning: Precision and F-score are ill-defined and being set to 0.0 in labels with no predicted samples. Use `zero_division` parameter to control this behavior.\n",
      "  _warn_prf(average, modifier, msg_start, len(result))\n",
      "C:\\ProgramData\\anaconda3\\lib\\site-packages\\sklearn\\metrics\\_classification.py:1344: UndefinedMetricWarning: Precision and F-score are ill-defined and being set to 0.0 in labels with no predicted samples. Use `zero_division` parameter to control this behavior.\n",
      "  _warn_prf(average, modifier, msg_start, len(result))\n",
      "C:\\ProgramData\\anaconda3\\lib\\site-packages\\sklearn\\metrics\\_classification.py:1344: UndefinedMetricWarning: Precision and F-score are ill-defined and being set to 0.0 in labels with no predicted samples. Use `zero_division` parameter to control this behavior.\n",
      "  _warn_prf(average, modifier, msg_start, len(result))\n"
     ]
    }
   ],
   "source": [
    "# Evaluate the model\n",
    "print(\"Randomsearch Model:\")\n",
    "print(\"Accuracy:\", accuracy_score(y_test, predictions))\n",
    "print(classification_report(y_test, predictions))"
   ]
  },
  {
   "cell_type": "markdown",
   "id": "d117fe1d",
   "metadata": {},
   "source": []
  }
 ],
 "metadata": {
  "kernelspec": {
   "display_name": "Python 3 (ipykernel)",
   "language": "python",
   "name": "python3"
  },
  "language_info": {
   "codemirror_mode": {
    "name": "ipython",
    "version": 3
   },
   "file_extension": ".py",
   "mimetype": "text/x-python",
   "name": "python",
   "nbconvert_exporter": "python",
   "pygments_lexer": "ipython3",
   "version": "3.10.9"
  }
 },
 "nbformat": 4,
 "nbformat_minor": 5
}
